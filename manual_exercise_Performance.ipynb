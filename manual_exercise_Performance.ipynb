{
  "nbformat": 4,
  "nbformat_minor": 0,
  "metadata": {
    "colab": {
      "provenance": [],
      "authorship_tag": "ABX9TyO7Hp/PP3kJSy00XfV2MpNv",
      "include_colab_link": true
    },
    "kernelspec": {
      "name": "python3",
      "display_name": "Python 3"
    },
    "language_info": {
      "name": "python"
    }
  },
  "cells": [
    {
      "cell_type": "markdown",
      "metadata": {
        "id": "view-in-github",
        "colab_type": "text"
      },
      "source": [
        "<a href=\"https://colab.research.google.com/github/raulbenitez/PRML_Probabilistic_classifiers/blob/main/manual_exercise_Performance.ipynb\" target=\"_parent\"><img src=\"https://colab.research.google.com/assets/colab-badge.svg\" alt=\"Open In Colab\"/></a>"
      ]
    },
    {
      "cell_type": "markdown",
      "source": [
        "Generate data"
      ],
      "metadata": {
        "id": "zlzOR-mcxN5z"
      }
    },
    {
      "cell_type": "code",
      "execution_count": 9,
      "metadata": {
        "colab": {
          "base_uri": "https://localhost:8080/",
          "height": 521
        },
        "id": "VWQ3PSLVxIBZ",
        "outputId": "63b6d6a7-fbbe-440b-d6f0-7398fca5fac5"
      },
      "outputs": [
        {
          "output_type": "execute_result",
          "data": {
            "text/plain": [
              "Text(0.5, 1.0, 'Data')"
            ]
          },
          "metadata": {},
          "execution_count": 9
        },
        {
          "output_type": "display_data",
          "data": {
            "text/plain": [
              "<Figure size 1200x1200 with 1 Axes>"
            ],
            "image/png": "[encoded data removed]"
          },
          "metadata": {}
        }
      ],
      "source": [
        "import matplotlib.pyplot as plt\n",
        "import numpy as np\n",
        "from sklearn.datasets import make_blobs\n",
        "\n",
        "\n",
        "n_samples = 16\n",
        "random_state = 170\n",
        "X, y = make_blobs(n_samples=n_samples, centers=2, random_state=random_state)\n",
        "XI = np.int16(X)\n",
        "\n",
        "plt.figure(figsize=(12, 12))\n",
        "plt.subplot(221)\n",
        "plt.scatter(XI[:, 0], XI[:, 1], c=y)\n",
        "plt.title(\"Data\")"
      ]
    },
    {
      "cell_type": "markdown",
      "source": [
        "Observations of class 0"
      ],
      "metadata": {
        "id": "8bTL5MZ5x1wB"
      }
    },
    {
      "cell_type": "code",
      "source": [
        "XI[y==0]"
      ],
      "metadata": {
        "colab": {
          "base_uri": "https://localhost:8080/"
        },
        "id": "uGKCjjvnxV8R",
        "outputId": "59e9a182-c3a1-4926-8bae-0b321e9c068e"
      },
      "execution_count": 14,
      "outputs": [
        {
          "output_type": "execute_result",
          "data": {
            "text/plain": [
              "array([[ -8,  -3],\n",
              "       [-10,  -4],\n",
              "       [ -8,  -5],\n",
              "       [-10,  -5],\n",
              "       [ -8,  -3],\n",
              "       [ -8,  -6],\n",
              "       [ -8,  -5],\n",
              "       [ -8,  -4]], dtype=int16)"
            ]
          },
          "metadata": {},
          "execution_count": 14
        }
      ]
    },
    {
      "cell_type": "markdown",
      "source": [
        "split train and test"
      ],
      "metadata": {
        "id": "PzzaF5CLx9vi"
      }
    },
    {
      "cell_type": "code",
      "source": [
        "from sklearn.model_selection import train_test_split\n",
        "# split the data with 70% in each set\n",
        "Xtrain, Xtest, ytrain, ytest = train_test_split(XI, y, random_state=0,train_size=0.7)"
      ],
      "metadata": {
        "id": "Wcn5q0dFxuo9"
      },
      "execution_count": 37,
      "outputs": []
    },
    {
      "cell_type": "code",
      "source": [
        "Xtrain[ytrain==0] # train samples of class 0"
      ],
      "metadata": {
        "colab": {
          "base_uri": "https://localhost:8080/"
        },
        "id": "PwbK9EC3yBUj",
        "outputId": "4cebde99-78a0-4233-f3ab-8656993816d0"
      },
      "execution_count": 38,
      "outputs": [
        {
          "output_type": "execute_result",
          "data": {
            "text/plain": [
              "array([[-10,  -4],\n",
              "       [ -8,  -5],\n",
              "       [ -8,  -3],\n",
              "       [-10,  -5],\n",
              "       [ -8,  -4],\n",
              "       [ -8,  -3]], dtype=int16)"
            ]
          },
          "metadata": {},
          "execution_count": 38
        }
      ]
    },
    {
      "cell_type": "markdown",
      "source": [
        "Fit a kNN classifier"
      ],
      "metadata": {
        "id": "aZrLRG_CyZuq"
      }
    },
    {
      "cell_type": "code",
      "source": [
        "from sklearn.neighbors import KNeighborsClassifier\n",
        "model = KNeighborsClassifier(n_neighbors=1)\n",
        "model.fit(Xtrain, ytrain)\n",
        "y_test_pred = model.predict(Xtest)"
      ],
      "metadata": {
        "id": "vB3nR5X1yDRo"
      },
      "execution_count": 39,
      "outputs": []
    },
    {
      "cell_type": "code",
      "source": [
        "y_test_pred"
      ],
      "metadata": {
        "colab": {
          "base_uri": "https://localhost:8080/"
        },
        "id": "gyrtwjLxybki",
        "outputId": "669fbf22-6ec1-4637-ea02-f5c0a1cedd60"
      },
      "execution_count": 40,
      "outputs": [
        {
          "output_type": "execute_result",
          "data": {
            "text/plain": [
              "array([1, 0, 1, 1, 0])"
            ]
          },
          "metadata": {},
          "execution_count": 40
        }
      ]
    },
    {
      "cell_type": "code",
      "source": [
        "ytest"
      ],
      "metadata": {
        "colab": {
          "base_uri": "https://localhost:8080/"
        },
        "id": "YlOtUzOoyf38",
        "outputId": "9f6347dd-7556-41f4-b7f8-73998aa1d900"
      },
      "execution_count": 41,
      "outputs": [
        {
          "output_type": "execute_result",
          "data": {
            "text/plain": [
              "array([1, 0, 1, 1, 0])"
            ]
          },
          "metadata": {},
          "execution_count": 41
        }
      ]
    },
    {
      "cell_type": "code",
      "source": [
        "from sklearn.metrics import confusion_matrix\n",
        "CM = confusion_matrix(ytest, y_test_pred) #  CM[i,j] is equal to the number of observations of class i and predicted to be in class j"
      ],
      "metadata": {
        "id": "YYxkH-ouyhKC"
      },
      "execution_count": 27,
      "outputs": []
    },
    {
      "cell_type": "code",
      "source": [
        "print(CM)"
      ],
      "metadata": {
        "colab": {
          "base_uri": "https://localhost:8080/"
        },
        "id": "WRAJq6ilypnh",
        "outputId": "bb01ce6f-68e0-4c1d-98f7-4acd6a576e14"
      },
      "execution_count": 25,
      "outputs": [
        {
          "output_type": "stream",
          "name": "stdout",
          "text": [
            "[[2 0]\n",
            " [0 3]]\n"
          ]
        }
      ]
    },
    {
      "cell_type": "code",
      "source": [
        "TN = CM[0,0] # True Negatives (0 class correctly predicted as 0)\n",
        "TP = CM[1,1] # True Positives (1 class correctly predicted as 1)\n",
        "FP = CM[0,1] # False Positives (0 class mistakenly predicted as 1)\n",
        "FN = CM[1,0] # False Negatives (1 class mistakenly predicted as 0)"
      ],
      "metadata": {
        "id": "j5PDiPddysWP"
      },
      "execution_count": 33,
      "outputs": []
    },
    {
      "cell_type": "code",
      "source": [
        "Xtest[ytest==0] # test samples of class 0"
      ],
      "metadata": {
        "colab": {
          "base_uri": "https://localhost:8080/"
        },
        "id": "SZLqquo0zECq",
        "outputId": "662c8e5d-5d83-45d4-8d19-f20516ee9873"
      },
      "execution_count": 48,
      "outputs": [
        {
          "output_type": "execute_result",
          "data": {
            "text/plain": [
              "array([[-8, -5],\n",
              "       [-8, -6]], dtype=int16)"
            ]
          },
          "metadata": {},
          "execution_count": 48
        }
      ]
    },
    {
      "cell_type": "code",
      "source": [
        "Xtest[y_test_pred==0] # test samples predicted as class 0"
      ],
      "metadata": {
        "colab": {
          "base_uri": "https://localhost:8080/"
        },
        "id": "J51g_kos0CRk",
        "outputId": "3aa20fdc-92cb-424d-e8da-e74c046573f1"
      },
      "execution_count": 49,
      "outputs": [
        {
          "output_type": "execute_result",
          "data": {
            "text/plain": [
              "array([[-8, -5],\n",
              "       [-8, -6]], dtype=int16)"
            ]
          },
          "metadata": {},
          "execution_count": 49
        }
      ]
    },
    {
      "cell_type": "markdown",
      "source": [
        "Typical performance measures"
      ],
      "metadata": {
        "id": "RU4-RTDM0crd"
      }
    },
    {
      "cell_type": "code",
      "source": [
        "Accuracy = (TP+TN)/(TP+TN+FP+FN)\n",
        "Recall = TP/(TP+FN)\n",
        "Precision = TP/(TP+FP)\n",
        "Fscore = (2*Recall*Precision)/(Recall+Precision)\n",
        "print([Accuracy, Recall, Precision, Fscore])"
      ],
      "metadata": {
        "colab": {
          "base_uri": "https://localhost:8080/"
        },
        "id": "K9WYydvx0JLY",
        "outputId": "4c78493e-e820-4b5d-d208-95fb809e53ca"
      },
      "execution_count": 50,
      "outputs": [
        {
          "output_type": "stream",
          "name": "stdout",
          "text": [
            "[1.0, 1.0, 1.0, 1.0]\n"
          ]
        }
      ]
    },
    {
      "cell_type": "markdown",
      "source": [
        "Fit linear and quadratic discriminant model"
      ],
      "metadata": {
        "id": "se5si8Wm1ELz"
      }
    },
    {
      "cell_type": "code",
      "source": [
        "from sklearn.discriminant_analysis import LinearDiscriminantAnalysis,QuadraticDiscriminantAnalysis\n",
        "import numpy as np\n",
        "\n",
        "LDA = LinearDiscriminantAnalysis(store_covariance=True)\n",
        "LDA.fit(Xtrain, ytrain)\n",
        "QDA = QuadraticDiscriminantAnalysis(store_covariance=True)\n",
        "QDA.fit(Xtrain, ytrain)\n",
        "\n",
        "y_test_pred_LDA = LDA.predict(Xtest)\n",
        "y_test_pred_QDA = QDA.predict(Xtest)"
      ],
      "metadata": {
        "id": "CDWnh1lN0fpZ"
      },
      "execution_count": 55,
      "outputs": []
    },
    {
      "cell_type": "code",
      "source": [
        "LDA.means_"
      ],
      "metadata": {
        "colab": {
          "base_uri": "https://localhost:8080/"
        },
        "id": "_dtFNsYN1au-",
        "outputId": "2ac39903-cb4b-49c7-a34b-efea3d9f2bdb"
      },
      "execution_count": 56,
      "outputs": [
        {
          "output_type": "execute_result",
          "data": {
            "text/plain": [
              "array([[-8.66666667, -4.        ],\n",
              "       [-3.8       ,  0.        ]])"
            ]
          },
          "metadata": {},
          "execution_count": 56
        }
      ]
    },
    {
      "cell_type": "code",
      "source": [
        "np.mean(Xtrain[ytrain==0],axis=0)"
      ],
      "metadata": {
        "colab": {
          "base_uri": "https://localhost:8080/"
        },
        "id": "j1FG04PM2msB",
        "outputId": "f0910d00-23b1-4e6c-e770-c678bc75c788"
      },
      "execution_count": 75,
      "outputs": [
        {
          "output_type": "execute_result",
          "data": {
            "text/plain": [
              "array([-8.66666667, -4.        ])"
            ]
          },
          "metadata": {},
          "execution_count": 75
        }
      ]
    },
    {
      "cell_type": "code",
      "source": [
        "np.mean(Xtrain[ytrain==1],axis=0)"
      ],
      "metadata": {
        "colab": {
          "base_uri": "https://localhost:8080/"
        },
        "id": "l9ZZNgo024KH",
        "outputId": "16c4a43f-b516-47ad-bf1a-d3aa2e118ba5"
      },
      "execution_count": 76,
      "outputs": [
        {
          "output_type": "execute_result",
          "data": {
            "text/plain": [
              "array([-3.8,  0. ])"
            ]
          },
          "metadata": {},
          "execution_count": 76
        }
      ]
    },
    {
      "cell_type": "code",
      "source": [
        "LDA.covariance_"
      ],
      "metadata": {
        "colab": {
          "base_uri": "https://localhost:8080/"
        },
        "id": "iDYm2ghg1fke",
        "outputId": "994dcea5-4926-444f-ddff-8e98e17ffda7"
      },
      "execution_count": 83,
      "outputs": [
        {
          "output_type": "execute_result",
          "data": {
            "text/plain": [
              "array([[0.55757576, 0.09090909],\n",
              "       [0.09090909, 0.54545455]])"
            ]
          },
          "metadata": {},
          "execution_count": 83
        }
      ]
    },
    {
      "cell_type": "code",
      "source": [
        "from sklearn.preprocessing import StandardScaler\n",
        "XStrain = StandardScaler().fit_transform(Xtrain)\n",
        "np.cov(Xtrain.T,bias=True)"
      ],
      "metadata": {
        "colab": {
          "base_uri": "https://localhost:8080/"
        },
        "id": "dBBThkPn25uo",
        "outputId": "b6386db0-43e3-4534-8c13-566d8681d406"
      },
      "execution_count": 94,
      "outputs": [
        {
          "output_type": "execute_result",
          "data": {
            "text/plain": [
              "array([[6.42975207, 4.91735537],\n",
              "       [4.91735537, 4.51239669]])"
            ]
          },
          "metadata": {},
          "execution_count": 94
        }
      ]
    },
    {
      "cell_type": "code",
      "source": [
        "QDA.means_"
      ],
      "metadata": {
        "colab": {
          "base_uri": "https://localhost:8080/"
        },
        "id": "bOShDhPo1pSs",
        "outputId": "f5e0a2b7-d4b7-4c6d-e052-56d9fa2c0627"
      },
      "execution_count": 60,
      "outputs": [
        {
          "output_type": "execute_result",
          "data": {
            "text/plain": [
              "array([[-8.66666667, -4.        ],\n",
              "       [-3.8       ,  0.        ]])"
            ]
          },
          "metadata": {},
          "execution_count": 60
        }
      ]
    },
    {
      "cell_type": "code",
      "source": [
        "QDA.covariance_"
      ],
      "metadata": {
        "colab": {
          "base_uri": "https://localhost:8080/"
        },
        "id": "AKpRRIVv12D8",
        "outputId": "fb67a61b-a9a9-4ad0-f5b0-572a4737713c"
      },
      "execution_count": 61,
      "outputs": [
        {
          "output_type": "execute_result",
          "data": {
            "text/plain": [
              "[array([[1.06666667, 0.4       ],\n",
              "        [0.4       , 0.8       ]]),\n",
              " array([[ 0.2 , -0.25],\n",
              "        [-0.25,  0.5 ]])]"
            ]
          },
          "metadata": {},
          "execution_count": 61
        }
      ]
    },
    {
      "cell_type": "markdown",
      "source": [
        "Get posterior probabilities"
      ],
      "metadata": {
        "id": "NjsYET982jic"
      }
    },
    {
      "cell_type": "code",
      "source": [
        "LDA.predict_proba(Xtest)"
      ],
      "metadata": {
        "colab": {
          "base_uri": "https://localhost:8080/"
        },
        "id": "4NMEGfk913gx",
        "outputId": "3b5d7253-212f-4235-b2b8-810c1201f05b"
      },
      "execution_count": 66,
      "outputs": [
        {
          "output_type": "execute_result",
          "data": {
            "text/plain": [
              "array([[4.36617409e-11, 1.00000000e+00],\n",
              "       [1.00000000e+00, 4.15419453e-12],\n",
              "       [6.12788686e-09, 9.99999994e-01],\n",
              "       [4.36617409e-11, 1.00000000e+00],\n",
              "       [1.00000000e+00, 2.95989757e-14]])"
            ]
          },
          "metadata": {},
          "execution_count": 66
        }
      ]
    },
    {
      "cell_type": "code",
      "source": [
        "y_test_pred_LDA"
      ],
      "metadata": {
        "colab": {
          "base_uri": "https://localhost:8080/"
        },
        "id": "1G0hURCQ2CUu",
        "outputId": "cfebbdca-a46a-45de-a265-f3b3125360e8"
      },
      "execution_count": 67,
      "outputs": [
        {
          "output_type": "execute_result",
          "data": {
            "text/plain": [
              "array([1, 0, 1, 1, 0])"
            ]
          },
          "metadata": {},
          "execution_count": 67
        }
      ]
    },
    {
      "cell_type": "code",
      "source": [],
      "metadata": {
        "id": "zbM2iGcW2TDa"
      },
      "execution_count": null,
      "outputs": []
    }
  ]
}