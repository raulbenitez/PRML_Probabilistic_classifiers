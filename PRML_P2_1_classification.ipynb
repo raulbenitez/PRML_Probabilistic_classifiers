{
  "nbformat": 4,
  "nbformat_minor": 0,
  "metadata": {
    "colab": {
      "name": "PRML_P2.1_classification.ipynb",
      "provenance": [],
      "authorship_tag": "ABX9TyNF/+3nYpUxG/9BOlQdNU7m",
      "include_colab_link": true
    },
    "kernelspec": {
      "name": "python3",
      "display_name": "Python 3"
    },
    "language_info": {
      "name": "python"
    }
  },
  "cells": [
    {
      "cell_type": "markdown",
      "metadata": {
        "id": "view-in-github",
        "colab_type": "text"
      },
      "source": [
        "<a href=\"https://colab.research.google.com/github/raulbenitez/PRML_Probabilistic_classifiers/blob/main/PRML_P2_1_classification.ipynb\" target=\"_parent\"><img src=\"https://colab.research.google.com/assets/colab-badge.svg\" alt=\"Open In Colab\"/></a>"
      ]
    },
    {
      "cell_type": "markdown",
      "source": [
        "# Probabilistic classification models - General workflow"
      ],
      "metadata": {
        "id": "KUcnueH9dYWl"
      }
    },
    {
      "cell_type": "markdown",
      "source": [
        "## 1. Load data (n observations, d features)\n",
        "\n",
        "- data matrix: $X_{n\\times d}$ \n",
        "- class labels $y = \\{\\omega_1,\\dots \\omega_{n}\\}$"
      ],
      "metadata": {
        "id": "0L98NnbPdeWb"
      }
    },
    {
      "cell_type": "code",
      "source": [
        "from sklearn.datasets import load_iris\n",
        "iris = load_iris()\n",
        "X = iris.data\n",
        "y = iris.target"
      ],
      "metadata": {
        "id": "kFzgfJ_heFZf"
      },
      "execution_count": 2,
      "outputs": []
    },
    {
      "cell_type": "markdown",
      "source": [
        "In the iris dataset, we have $n=150$ observations, $d=4$ features and the class labels take 3 possible values:"
      ],
      "metadata": {
        "id": "mDGsrJey3hXl"
      }
    },
    {
      "cell_type": "code",
      "source": [
        "import numpy as np \n",
        "\n",
        "print('Number of observations n = {}'.format(X.shape[0]))\n",
        "print('Number of features d = {}'.format(X.shape[1]))\n",
        "print('Possible class labels = {}'.format(np.unique(y)))"
      ],
      "metadata": {
        "colab": {
          "base_uri": "https://localhost:8080/"
        },
        "id": "yL1x9rSJ3r-_",
        "outputId": "9b1d8974-cb89-4bdd-f9cc-b32c0dc6ba36"
      },
      "execution_count": 23,
      "outputs": [
        {
          "output_type": "stream",
          "name": "stdout",
          "text": [
            "Number of observations n = 150\n",
            "Number of features d = 4\n",
            "Possible class labels = [0 1 2]\n"
          ]
        }
      ]
    },
    {
      "cell_type": "markdown",
      "source": [
        "## 2. Split data in training and test subsets (70% train, 30% test, for instance)"
      ],
      "metadata": {
        "id": "YlwRKla3dfyW"
      }
    },
    {
      "cell_type": "code",
      "execution_count": 3,
      "metadata": {
        "id": "_BjefrL7dPJC"
      },
      "outputs": [],
      "source": [
        "from sklearn.model_selection import train_test_split\n",
        "\n",
        "Xtrain, Xtest, ytrain, ytest = train_test_split(X, y, train_size=0.7)\n"
      ]
    },
    {
      "cell_type": "markdown",
      "source": [
        "We have 105 observations in the training set and 45 observations in the test set:"
      ],
      "metadata": {
        "id": "TyAJiHPK4H5_"
      }
    },
    {
      "cell_type": "code",
      "source": [
        "print('Training observations = {}'.format(Xtrain.shape[0]))\n",
        "print('Test observations = {}'.format(Xtest.shape[0]))"
      ],
      "metadata": {
        "colab": {
          "base_uri": "https://localhost:8080/"
        },
        "id": "cDUpiq_o4NJ-",
        "outputId": "5557b951-8671-4b42-f91d-d95a6ca42818"
      },
      "execution_count": 24,
      "outputs": [
        {
          "output_type": "stream",
          "name": "stdout",
          "text": [
            "Training observations = 105\n",
            "Test observations = 45\n"
          ]
        }
      ]
    },
    {
      "cell_type": "markdown",
      "source": [
        "## 3. Define the classification model\n",
        "\n",
        "In this case, a classifier implementing the k-nearest neighbors rule \n",
        "https://scikit-learn.org/stable/modules/generated/sklearn.neighbors.KNeighborsClassifier.html\n",
        "\n",
        "\n"
      ],
      "metadata": {
        "id": "kBcDsoureSjo"
      }
    },
    {
      "cell_type": "code",
      "source": [
        "from sklearn.neighbors import KNeighborsClassifier\n",
        "\n",
        "model = KNeighborsClassifier(n_neighbors=1)"
      ],
      "metadata": {
        "id": "_jeHehNDeYLM"
      },
      "execution_count": 4,
      "outputs": []
    },
    {
      "cell_type": "markdown",
      "source": [
        "4. Fit/train/learn/estimate the model using training data"
      ],
      "metadata": {
        "id": "VhDZVSnHeZ3h"
      }
    },
    {
      "cell_type": "code",
      "source": [
        "model.fit(Xtrain, ytrain)"
      ],
      "metadata": {
        "colab": {
          "base_uri": "https://localhost:8080/"
        },
        "id": "jLl2UptheU2c",
        "outputId": "8a7bc370-969d-42a2-b1a3-c315ce124e8b"
      },
      "execution_count": 5,
      "outputs": [
        {
          "output_type": "execute_result",
          "data": {
            "text/plain": [
              "KNeighborsClassifier(n_neighbors=1)"
            ]
          },
          "metadata": {},
          "execution_count": 5
        }
      ]
    },
    {
      "cell_type": "markdown",
      "source": [
        "## 4. Evaluate classification performance using test subset"
      ],
      "metadata": {
        "id": "t1pTRMLSedSh"
      }
    },
    {
      "cell_type": "code",
      "source": [
        "from sklearn.metrics import confusion_matrix\n",
        "from sklearn.metrics import accuracy_score\n",
        "# use the model to predict class labels of the test set \n",
        "ytest_pred = model.predict(Xtest)\n",
        "\n",
        "\n",
        "cm = confusion_matrix(ytest, ytest_pred)\n",
        "\n",
        "acc = accuracy_score(ytest, ytest_pred)\n",
        "\n",
        "print('Confusion matrix:')\n",
        "print(cm)\n",
        "\n",
        "print('Accuracy = {}'.format(acc))\n"
      ],
      "metadata": {
        "colab": {
          "base_uri": "https://localhost:8080/"
        },
        "id": "rerdYZMaegpZ",
        "outputId": "eab1434f-b76e-4a2d-d126-68e9b0c06067"
      },
      "execution_count": 20,
      "outputs": [
        {
          "output_type": "stream",
          "name": "stdout",
          "text": [
            "Confusion matrix:\n",
            "[[14  0  0]\n",
            " [ 0 14  0]\n",
            " [ 0  3 14]]\n",
            "Accuracy = 0.9333333333333333\n"
          ]
        }
      ]
    },
    {
      "cell_type": "markdown",
      "source": [
        "# Exercise 1: \n",
        "\n",
        "a) Load the mpg cars database included in the seaborn libraries https://seaborn.pydata.org/generated/seaborn.load_dataset.html\n",
        "\n",
        "b) Apply the following probabilistic classification methods in order to predict the origin of the car from the numerical features\n",
        "\n",
        "- k-nearest neigbours (KNN)\n",
        "\n",
        "https://scikit-learn.org/stable/modules/generated/sklearn.neighbors.KNeighborsClassifier.html\n",
        "\n",
        "- Linear Discriminant Analysis (LDA) \n",
        "\n",
        "https://scikit-learn.org/stable/modules/generated/sklearn.discriminant_analysis.LinearDiscriminantAnalysis.html\n",
        "\n",
        "- Quadratic Discriminant Analysis (DQA)\n",
        "\n",
        "https://scikit-learn.org/stable/modules/generated/sklearn.discriminant_analysis.QuadraticDiscriminantAnalysis.html\n",
        "\n",
        "- Gaussian Naive Bayes \n",
        "\n",
        "https://scikit-learn.org/stable/modules/generated/sklearn.naive_bayes.GaussianNB.html#sklearn.naive_bayes.GaussianNB\n",
        "\n",
        "c) compare the different methods using the accuracy score"
      ],
      "metadata": {
        "id": "w4C99e-dfTfR"
      }
    },
    {
      "cell_type": "markdown",
      "source": [
        "# Exercise 2: \n",
        "\n",
        "Download a classification dataset from either Kaggle or UCI library repository and apply a probabilistic classification method. Evaluate the performance"
      ],
      "metadata": {
        "id": "wCehcRgMiwKc"
      }
    }
  ]
}