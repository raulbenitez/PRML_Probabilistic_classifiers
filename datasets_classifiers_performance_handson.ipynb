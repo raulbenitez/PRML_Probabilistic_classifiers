{
  "nbformat": 4,
  "nbformat_minor": 0,
  "metadata": {
    "colab": {
      "name": "datasets_classifiers_performance_handson.ipynb",
      "provenance": [],
      "authorship_tag": "ABX9TyPc8Xs4WRELJGXKQLqBbqxd",
      "include_colab_link": true
    },
    "kernelspec": {
      "name": "python3",
      "display_name": "Python 3"
    },
    "language_info": {
      "name": "python"
    }
  },
  "cells": [
    {
      "cell_type": "markdown",
      "metadata": {
        "id": "view-in-github",
        "colab_type": "text"
      },
      "source": [
        "<a href=\"https://colab.research.google.com/github/raulbenitez/PRML_Probabilistic_classifiers/blob/main/datasets_classifiers_performance_handson.ipynb\" target=\"_parent\"><img src=\"https://colab.research.google.com/assets/colab-badge.svg\" alt=\"Open In Colab\"/></a>"
      ]
    },
    {
      "cell_type": "markdown",
      "metadata": {
        "id": "yEh19Z-CmVB_"
      },
      "source": [
        "# Exercise description\n",
        "\n",
        "This is a hands-on session to work in groups with probabilistic classifiers and performance evaluation methods.\n",
        "\n",
        "The main aim is to apply different probabilistic classifiers to different datasets and evaluate the performance using different performance evaluation scores. \n",
        "\n",
        "The solution should be provided as a  Python notebook. Below are the list of datasets, methods and performance scores to be used with code cells to load the data and links to the corresponding sklearn functions. "
      ]
    },
    {
      "cell_type": "markdown",
      "metadata": {
        "id": "rsY7kvVdq3aD"
      },
      "source": [
        "\n",
        "# 1. Datasets\n",
        "\n"
      ]
    },
    {
      "cell_type": "markdown",
      "metadata": {
        "id": "rxYiEICksx38"
      },
      "source": [
        "## Iris\n",
        "\n",
        "https://scikit-learn.org/stable/modules/generated/sklearn.datasets.load_iris.html#sklearn.datasets.load_iris\n",
        "\n",
        "https://archive.ics.uci.edu/ml/datasets/iris\n"
      ]
    },
    {
      "cell_type": "code",
      "metadata": {
        "id": "0K3I0jkHq53b"
      },
      "source": [
        "from sklearn.datasets import load_iris\n",
        "iris = load_iris()\n",
        "Xiris = iris.data\n",
        "yiris = iris.target\n",
        "Xiris_train, Xiris_test, yiris_train, yiris_test = train_test_split(Xiris, yiris, random_state=0,\n",
        "                                  train_size=0.6)"
      ],
      "execution_count": null,
      "outputs": []
    },
    {
      "cell_type": "markdown",
      "metadata": {
        "id": "pE3AUWVDq6B7"
      },
      "source": [
        "\n",
        "## Breast cancer\n",
        "\n",
        "https://scikit-learn.org/stable/modules/generated/sklearn.datasets.load_breast_cancer.html#sklearn.datasets.load_breast_cancer\n",
        "\n",
        "https://archive.ics.uci.edu/ml/datasets/Breast+Cancer+Wisconsin+(Diagnostic)\n",
        "\n"
      ]
    },
    {
      "cell_type": "code",
      "metadata": {
        "id": "0YZkk4ebrJ-c"
      },
      "source": [
        "from sklearn.datasets import load_breast_cancer\n",
        "breast = load_breast_cancer() # load a binary classification dataset\n",
        "Xbreast = data.data\n",
        "ybreast = data.target\n",
        "Xbreast_train, Xbreast_test, ybreast_train, ybreast_test = train_test_split(Xbreast, ybreast, random_state=0,\n",
        "                                  train_size=0.6)"
      ],
      "execution_count": null,
      "outputs": []
    },
    {
      "cell_type": "markdown",
      "metadata": {
        "id": "KDNxcFYbrSei"
      },
      "source": [
        "## Wine \n",
        "\n",
        "https://scikit-learn.org/stable/modules/generated/sklearn.datasets.load_wine.html#sklearn.datasets.load_wine\n",
        "https://archive.ics.uci.edu/ml/datasets/wine"
      ]
    },
    {
      "cell_type": "code",
      "metadata": {
        "id": "VoMi7Z3JrNRS"
      },
      "source": [
        "from sklearn.datasets import load_wine\n",
        "wine = load_wine()\n",
        "Xwine = wine.data\n",
        "ywine = wine.target\n",
        "Xine_train, Xwine_test, ywine_train, ywine_test = train_test_split(Xwine, ywine, random_state=0,\n",
        "                                  train_size=0.6)"
      ],
      "execution_count": null,
      "outputs": []
    },
    {
      "cell_type": "markdown",
      "metadata": {
        "id": "KZWHlXPXrC8Z"
      },
      "source": [
        "\n",
        "# 2. Probabilistic classfiers "
      ]
    },
    {
      "cell_type": "markdown",
      "metadata": {
        "id": "G4JUfWM-tBlM"
      },
      "source": [
        "\n",
        "## Gaussian Naive Bayes\n",
        "https://scikit-learn.org/stable/modules/generated/sklearn.naive_bayes.GaussianNB.html\n",
        "\n"
      ]
    },
    {
      "cell_type": "markdown",
      "metadata": {
        "id": "AChVEw2mtBpD"
      },
      "source": [
        "## LDA \n",
        "https://scikit-learn.org/stable/modules/generated/sklearn.discriminant_analysis.LinearDiscriminantAnalysis.html\n"
      ]
    },
    {
      "cell_type": "markdown",
      "metadata": {
        "id": "jfKINN-wtBsW"
      },
      "source": [
        "## QDA \n",
        "https://scikit-learn.org/stable/modules/generated/sklearn.discriminant_analysis.QuadraticDiscriminantAnalysis.html#sklearn.discriminant_analysis.QuadraticDiscriminantAnalysis"
      ]
    },
    {
      "cell_type": "markdown",
      "metadata": {
        "id": "en-W0aXotMwg"
      },
      "source": [
        "\n",
        "## Decision Trees\n",
        "https://scikit-learn.org/stable/modules/generated/sklearn.tree.DecisionTreeClassifier.html"
      ]
    },
    {
      "cell_type": "markdown",
      "metadata": {
        "id": "ajkGk6o8spM1"
      },
      "source": [
        "# 3. Performance evaluation \n",
        "method: k-fold cross-validation using the training subset\n",
        "\n",
        "https://scikit-learn.org/stable/modules/cross_validation.html#cross-validation"
      ]
    },
    {
      "cell_type": "markdown",
      "metadata": {
        "id": "vHHkchLjtU0f"
      },
      "source": [
        "## Confusion matrix \n",
        "https://scikit-learn.org/stable/modules/generated/sklearn.metrics.confusion_matrix.html\n"
      ]
    },
    {
      "cell_type": "markdown",
      "metadata": {
        "id": "zf-vgfILtW_Q"
      },
      "source": [
        "\n",
        "## Accuracy, Recall, TPR, TNR "
      ]
    }
  ]
}