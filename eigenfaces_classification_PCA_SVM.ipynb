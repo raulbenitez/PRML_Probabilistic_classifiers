{
  "nbformat": 4,
  "nbformat_minor": 0,
  "metadata": {
    "colab": {
      "name": "eigenfaces_classification_PCA_SVM.ipynb",
      "provenance": [],
      "authorship_tag": "ABX9TyN/RNSLD/+0otgvYNWeMkc5",
      "include_colab_link": true
    },
    "kernelspec": {
      "name": "python3",
      "display_name": "Python 3"
    },
    "language_info": {
      "name": "python"
    }
  },
  "cells": [
    {
      "cell_type": "markdown",
      "metadata": {
        "id": "view-in-github",
        "colab_type": "text"
      },
      "source": [
        "<a href=\"https://colab.research.google.com/github/raulbenitez/PRML_Probabilistic_classifiers/blob/main/eigenfaces_classification_PCA_SVM.ipynb\" target=\"_parent\"><img src=\"https://colab.research.google.com/assets/colab-badge.svg\" alt=\"Open In Colab\"/></a>"
      ]
    },
    {
      "cell_type": "markdown",
      "metadata": {
        "id": "3FhDYkO680Yo"
      },
      "source": [
        "# Face recognition using PCA and SVM\n",
        "\n",
        "R.Benítez, UPC\n",
        "\n",
        "This is know known as Traditional Machine Learning in opposition to deep learning techniques that use convolutional neural networks as feature extraction instead PCA. \n",
        "\n"
      ]
    },
    {
      "cell_type": "code",
      "metadata": {
        "colab": {
          "base_uri": "https://localhost:8080/",
          "height": 1000
        },
        "id": "sDRxn_k74haK",
        "outputId": "8fea3398-e41e-4e54-9578-cb34d7e9e62e"
      },
      "source": [
        "import logging\n",
        "from sklearn.model_selection import train_test_split\n",
        "from sklearn.model_selection import GridSearchCV\n",
        "from sklearn.datasets import fetch_lfw_people\n",
        "from sklearn.metrics import classification_report\n",
        "from sklearn.metrics import confusion_matrix\n",
        "from sklearn.metrics import accuracy_score\n",
        "from sklearn.decomposition import PCA\n",
        "from sklearn.svm import SVC\n",
        "import numpy as np\n",
        "\n",
        "\n",
        "# Display progress logs on stdout\n",
        "logging.basicConfig(level=logging.INFO, format='%(asctime)s %(message)s')\n",
        "\n",
        "#############################################################\n",
        "# LOAD LFW DATA\n",
        "###############################################################################\n",
        "# Load LFW dataset:\n",
        "lfw_people = fetch_lfw_people(min_faces_per_person=200,  funneled=True,resize=1)\n",
        "# Get images:\n",
        "n_samples, h, w = lfw_people.images.shape\n",
        "# Get features data matrix (pixel intensities, 1 pixel = 1 feature):\n",
        "X = lfw_people.data\n",
        "n_features = X.shape[1]\n",
        "# Get class vector (name of the person)\n",
        "y = lfw_people.target\n",
        "target_names = lfw_people.target_names\n",
        "n_classes = target_names.shape[0]\n",
        "\n",
        "# Split dataset into train and test subsets:\n",
        "X_train, X_test, y_train, y_test = train_test_split(\n",
        "    X, y, test_size=0.30, random_state=42)\n",
        "    \n",
        "##########################################################\n",
        "# EIGENFACES: Reduce dimensionality with PCA + SVM (classifier)\n",
        "##########################################################\n",
        "# PCA projection to a 10-dimensional PCA space:\n",
        "n_components = 10\n",
        "print(\"Extracting the top %d eigenfaces from %d faces\"\n",
        "      % (n_components, X_train.shape[0]))\n",
        "pca = PCA(n_components=n_components, svd_solver='randomized',\n",
        "          whiten=True).fit(X_train)\n",
        "eigenfaces = pca.components_.reshape((n_components, h, w))\n",
        "\n",
        "# Projection into the PCA space:\n",
        "X_train_pca = pca.transform(X_train)\n",
        "X_test_pca = pca.transform(X_test)\n",
        "\n",
        "import matplotlib.pyplot as plt\n",
        "plt.plot(np.cumsum(pca.explained_variance_ratio_))\n",
        "\n",
        "print(\"Fitting the SVM-Linear classifier to the training set\")\n",
        "param_grid = {'C': [1]}\n",
        "clf1 = GridSearchCV(SVC(kernel='linear', class_weight='balanced'), param_grid)\n",
        "clf1 = clf1.fit(X_train_pca, y_train)\n",
        "print(\"Best estimator found by grid search:\")\n",
        "print(clf1.best_estimator_)\n",
        "print(\"Predicting people's names on the test set\")\n",
        "y_pred = clf1.predict(X_test_pca)\n",
        "print(classification_report(y_test, y_pred, target_names=target_names))\n",
        "\n",
        "from sklearn.model_selection import cross_val_score\n",
        "scores = cross_val_score(clf1, X_test_pca, y_test, cv=10)\n",
        "print(\"Accuracy: %0.2f (+/- %0.2f)\" % (scores.mean(), scores.std() * 2))\n",
        "\n",
        "# PCA projection to a 100-dimensional PCA space\n",
        "n_components = 100\n",
        "print(\"Extracting the top %d eigenfaces from %d faces\"\n",
        "      % (n_components, X_train.shape[0]))\n",
        "pca = PCA(n_components=n_components, svd_solver='randomized',\n",
        "          whiten=True).fit(X_train)\n",
        "eigenfaces = pca.components_.reshape((n_components, h, w))\n",
        "\n",
        "# Projection into the PCA space:\n",
        "X_train_pca = pca.transform(X_train)\n",
        "X_test_pca = pca.transform(X_test)\n",
        "\n",
        "print(\"Fitting the SVM-Linear classifier to the training set\")\n",
        "param_grid = {'C': [1]}\n",
        "clf1 = GridSearchCV(SVC(kernel='linear', class_weight='balanced'), param_grid)\n",
        "clf1 = clf1.fit(X_train_pca, y_train)\n",
        "print(\"Best estimator found by grid search:\")\n",
        "print(clf1.best_estimator_)\n",
        "print(\"Predicting people's names on the test set\")\n",
        "y_pred = clf1.predict(X_test_pca)\n",
        "print(classification_report(y_test, y_pred, target_names=target_names))\n",
        "\n",
        "from sklearn.model_selection import cross_val_score\n",
        "scores = cross_val_score(clf1, X_test_pca, y_test, cv=10)\n",
        "print(\"Accuracy: %0.2f (+/- %0.2f)\" % (scores.mean(), scores.std() * 2))\n",
        "\n",
        "# PCA projection to a 400-dimensional PCA space\n",
        "n_components = 400\n",
        "print(\"Extracting the top %d eigenfaces from %d faces\"\n",
        "      % (n_components, X_train.shape[0]))\n",
        "pca = PCA(n_components=n_components, svd_solver='randomized',\n",
        "          whiten=True).fit(X_train)\n",
        "eigenfaces = pca.components_.reshape((n_components, h, w))\n",
        "\n",
        "# Projection into the PCA space:\n",
        "X_train_pca = pca.transform(X_train)\n",
        "X_test_pca = pca.transform(X_test)\n",
        "\n",
        "print(\"Fitting the SVM-Linear classifier to the training set\")\n",
        "param_grid = {'C': [1]}\n",
        "clf1 = GridSearchCV(SVC(kernel='linear', class_weight='balanced'), param_grid)\n",
        "clf1 = clf1.fit(X_train_pca, y_train)\n",
        "print(\"Best estimator found by grid search:\")\n",
        "print(clf1.best_estimator_)\n",
        "print(\"Predicting people's names on the test set\")\n",
        "y_pred = clf1.predict(X_test_pca)\n",
        "print(classification_report(y_test, y_pred, target_names=target_names))\n",
        "\n",
        "from sklearn.model_selection import cross_val_score\n",
        "scores = cross_val_score(clf1, X_test_pca, y_test, cv=10)\n",
        "print(\"Accuracy: %0.2f (+/- %0.2f)\" % (scores.mean(), scores.std() * 2))\n",
        "\n",
        "# Explained variance (400 first eigenfaces)\n",
        "import matplotlib.pyplot as plt\n",
        "import numpy as np\n",
        "plt.plot(np.cumsum(pca.explained_variance_ratio_))\n"
      ],
      "execution_count": 3,
      "outputs": [
        {
          "output_type": "stream",
          "text": [
            "Extracting the top 10 eigenfaces from 536 faces\n",
            "Fitting the SVM-Linear classifier to the training set\n",
            "Best estimator found by grid search:\n",
            "SVC(C=1, break_ties=False, cache_size=200, class_weight='balanced', coef0=0.0,\n",
            "    decision_function_shape='ovr', degree=3, gamma='scale', kernel='linear',\n",
            "    max_iter=-1, probability=False, random_state=None, shrinking=True,\n",
            "    tol=0.001, verbose=False)\n",
            "Predicting people's names on the test set\n",
            "               precision    recall  f1-score   support\n",
            "\n",
            " Colin Powell       0.59      0.83      0.69        71\n",
            "George W Bush       0.91      0.74      0.82       159\n",
            "\n",
            "     accuracy                           0.77       230\n",
            "    macro avg       0.75      0.79      0.75       230\n",
            " weighted avg       0.81      0.77      0.78       230\n",
            "\n",
            "Accuracy: 0.79 (+/- 0.16)\n",
            "Extracting the top 100 eigenfaces from 536 faces\n",
            "Fitting the SVM-Linear classifier to the training set\n",
            "Best estimator found by grid search:\n",
            "SVC(C=1, break_ties=False, cache_size=200, class_weight='balanced', coef0=0.0,\n",
            "    decision_function_shape='ovr', degree=3, gamma='scale', kernel='linear',\n",
            "    max_iter=-1, probability=False, random_state=None, shrinking=True,\n",
            "    tol=0.001, verbose=False)\n",
            "Predicting people's names on the test set\n",
            "               precision    recall  f1-score   support\n",
            "\n",
            " Colin Powell       0.84      0.83      0.84        71\n",
            "George W Bush       0.93      0.93      0.93       159\n",
            "\n",
            "     accuracy                           0.90       230\n",
            "    macro avg       0.88      0.88      0.88       230\n",
            " weighted avg       0.90      0.90      0.90       230\n",
            "\n",
            "Accuracy: 0.86 (+/- 0.10)\n",
            "Extracting the top 400 eigenfaces from 536 faces\n",
            "Fitting the SVM-Linear classifier to the training set\n",
            "Best estimator found by grid search:\n",
            "SVC(C=1, break_ties=False, cache_size=200, class_weight='balanced', coef0=0.0,\n",
            "    decision_function_shape='ovr', degree=3, gamma='scale', kernel='linear',\n",
            "    max_iter=-1, probability=False, random_state=None, shrinking=True,\n",
            "    tol=0.001, verbose=False)\n",
            "Predicting people's names on the test set\n",
            "               precision    recall  f1-score   support\n",
            "\n",
            " Colin Powell       0.85      0.89      0.87        71\n",
            "George W Bush       0.95      0.93      0.94       159\n",
            "\n",
            "     accuracy                           0.92       230\n",
            "    macro avg       0.90      0.91      0.90       230\n",
            " weighted avg       0.92      0.92      0.92       230\n",
            "\n",
            "Accuracy: 0.83 (+/- 0.16)\n"
          ],
          "name": "stdout"
        },
        {
          "output_type": "execute_result",
          "data": {
            "text/plain": [
              "[<matplotlib.lines.Line2D at 0x7ff697f4b7d0>]"
            ]
          },
          "metadata": {
            "tags": []
          },
          "execution_count": 3
        },
        {
          "output_type": "display_data",
          "data": {
            "image/png": "[encoded data removed]",
            "text/plain": [
              "<Figure size 432x288 with 1 Axes>"
            ]
          },
          "metadata": {
            "tags": [],
            "needs_background": "light"
          }
        }
      ]
    },
    {
      "cell_type": "code",
      "metadata": {
        "id": "zWdIeURh5HKW"
      },
      "source": [
        ""
      ],
      "execution_count": null,
      "outputs": []
    }
  ]
}