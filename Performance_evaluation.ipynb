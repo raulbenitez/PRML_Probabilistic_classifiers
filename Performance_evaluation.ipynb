{
  "nbformat": 4,
  "nbformat_minor": 0,
  "metadata": {
    "colab": {
      "name": "Performance_evaluation.ipynb",
      "provenance": []
    },
    "kernelspec": {
      "name": "python3",
      "display_name": "Python 3"
    }
  },
  "cells": [
    {
      "cell_type": "markdown",
      "metadata": {
        "id": "Jo63nQilTFFE"
      },
      "source": [
        "## PERFORMANCE EVALUATION\n",
        "\n",
        "\n",
        "- General testing procedure \n",
        "- Performance measures\n",
        "- k-fold cross-validation\n"
      ]
    },
    {
      "cell_type": "code",
      "metadata": {
        "id": "JlIOWwcITFFE"
      },
      "source": [
        "### General testing procedure:"
      ],
      "execution_count": 1,
      "outputs": []
    },
    {
      "cell_type": "code",
      "metadata": {
        "id": "xSYH0zmnTFFE"
      },
      "source": [
        "from sklearn.datasets import load_iris\n",
        "iris = load_iris()\n",
        "X = iris.data\n",
        "y = iris.target"
      ],
      "execution_count": 2,
      "outputs": []
    },
    {
      "cell_type": "markdown",
      "metadata": {
        "id": "QycyNBSwTFFF"
      },
      "source": [
        "Validation using training data: Wrong! "
      ]
    },
    {
      "cell_type": "code",
      "metadata": {
        "id": "0_VcZqbxTFFF",
        "outputId": "828e5774-bb77-4e68-f04a-8c9f9d331315"
      },
      "source": [
        "from sklearn.neighbors import KNeighborsClassifier\n",
        "model = KNeighborsClassifier(n_neighbors=1)\n",
        "model.fit(X, y)\n",
        "y_pred = model.predict(X)\n",
        "from sklearn.metrics import accuracy_score\n",
        "accuracy_score(y, y_pred)"
      ],
      "execution_count": null,
      "outputs": [
        {
          "output_type": "execute_result",
          "data": {
            "text/plain": [
              "1.0"
            ]
          },
          "metadata": {
            "tags": []
          },
          "execution_count": 111
        }
      ]
    },
    {
      "cell_type": "markdown",
      "metadata": {
        "id": "qdBAjhedTFFF"
      },
      "source": [
        "Split data in training & test subsets and validate using test: "
      ]
    },
    {
      "cell_type": "code",
      "metadata": {
        "id": "EnDK3402TFFF",
        "outputId": "5588a206-5ed4-427c-e7b0-5cc5cbc1ba12"
      },
      "source": [
        "from sklearn.model_selection import train_test_split\n",
        "# split the data with 50% in each set\n",
        "Xtrain, Xtest, ytrain, ytest = train_test_split(X, y, random_state=0,\n",
        "                                  train_size=0.5)\n",
        "\n",
        "# fit the model on one set of data\n",
        "model.fit(Xtrain, ytrain)\n",
        "\n",
        "# evaluate the model on the second set of data\n",
        "ytest_pred = model.predict(Xtest)\n",
        "accuracy_score(ytest, ytest_pred)"
      ],
      "execution_count": null,
      "outputs": [
        {
          "output_type": "execute_result",
          "data": {
            "text/plain": [
              "0.9066666666666666"
            ]
          },
          "metadata": {
            "tags": []
          },
          "execution_count": 112
        }
      ]
    },
    {
      "cell_type": "markdown",
      "metadata": {
        "id": "ToqtANPjTFFF"
      },
      "source": [
        "### Performance measures:\n",
        "\n",
        "confusion matrix.png![image.png](attachment:image.png)"
      ]
    },
    {
      "cell_type": "markdown",
      "metadata": {
        "id": "V3NL5dT-TFFF"
      },
      "source": [
        "Classification report:"
      ]
    },
    {
      "cell_type": "code",
      "metadata": {
        "id": "EiEEHuCcTFFG",
        "outputId": "f62e125f-a5fe-47c4-984d-2b7d45cb825c"
      },
      "source": [
        "from sklearn.metrics import classification_report\n",
        "print(classification_report(ytest, ytest_pred))"
      ],
      "execution_count": null,
      "outputs": [
        {
          "output_type": "stream",
          "text": [
            "              precision    recall  f1-score   support\n",
            "\n",
            "           0       1.00      1.00      1.00        21\n",
            "           1       0.85      0.93      0.89        30\n",
            "           2       0.90      0.79      0.84        24\n",
            "\n",
            "    accuracy                           0.91        75\n",
            "   macro avg       0.92      0.91      0.91        75\n",
            "weighted avg       0.91      0.91      0.91        75\n",
            "\n"
          ],
          "name": "stdout"
        }
      ]
    },
    {
      "cell_type": "markdown",
      "metadata": {
        "id": "Mf9Du4WYTFFG"
      },
      "source": [
        "Confusion matrix"
      ]
    },
    {
      "cell_type": "code",
      "metadata": {
        "id": "wanJOiMxTFFG",
        "outputId": "8fcaade1-08f4-4192-d3bc-86dad556c3a7"
      },
      "source": [
        "from sklearn.metrics import confusion_matrix\n",
        "confusion_matrix(ytest, ytest_pred)"
      ],
      "execution_count": null,
      "outputs": [
        {
          "output_type": "execute_result",
          "data": {
            "text/plain": [
              "array([[21,  0,  0],\n",
              "       [ 0, 28,  2],\n",
              "       [ 0,  5, 19]])"
            ]
          },
          "metadata": {
            "tags": []
          },
          "execution_count": 114
        }
      ]
    },
    {
      "cell_type": "markdown",
      "metadata": {
        "id": "7O_HBibgTFFG"
      },
      "source": [
        "Description of the available performance scores in sklearn libraries:\n",
        "https://scikit-learn.org/stable/modules/model_evaluation.html#scoring-parameter"
      ]
    },
    {
      "cell_type": "markdown",
      "metadata": {
        "id": "ZwZtt8y2TFFG"
      },
      "source": [
        "### k-fold Cross-validation\n",
        "\n",
        "kfold.gif![image.png](attachment:image.png)"
      ]
    },
    {
      "cell_type": "code",
      "metadata": {
        "id": "GW4ZIId8TFFG",
        "outputId": "5d90617f-763b-441e-80fa-9046cb8e41bb"
      },
      "source": [
        "from sklearn.model_selection import cross_val_score\n",
        "scores = cross_val_score(model, iris.data, iris.target, cv=5)\n",
        "print(\"Accuracy: %0.2f (+/- %0.2f)\" % (scores.mean(), scores.std() * 2))"
      ],
      "execution_count": null,
      "outputs": [
        {
          "output_type": "stream",
          "text": [
            "Accuracy: 0.96 (+/- 0.05)\n"
          ],
          "name": "stdout"
        }
      ]
    },
    {
      "cell_type": "code",
      "metadata": {
        "id": "zYkhfTlQTFFH",
        "outputId": "1159231c-c49d-4a1b-9bbe-657861fdf1e1"
      },
      "source": [
        "from sklearn import metrics\n",
        "f1_scores = cross_val_score(model,X,y, cv=5, scoring='f1_macro')\n",
        "print(\"Accuracy: %0.2f (+/- %0.2f)\" % (f1_scores.mean(), f1_scores.std() * 2))"
      ],
      "execution_count": null,
      "outputs": [
        {
          "output_type": "stream",
          "text": [
            "Accuracy: 0.96 (+/- 0.05)\n"
          ],
          "name": "stdout"
        }
      ]
    },
    {
      "cell_type": "markdown",
      "metadata": {
        "id": "coCWNpjcTFFH"
      },
      "source": [
        "k-fold cross-validation:"
      ]
    },
    {
      "cell_type": "code",
      "metadata": {
        "id": "F6ssiS5QTFFH",
        "outputId": "e907be42-777c-41bd-8a8d-737ec8bab30a"
      },
      "source": [
        "from sklearn.model_selection import KFold\n",
        "kf = KFold(n_splits=2)\n",
        "for train_index, test_index in kf.split(X):\n",
        "    print(\"TRAIN:\", train_index, \"TEST:\", test_index)\n"
      ],
      "execution_count": null,
      "outputs": [
        {
          "output_type": "stream",
          "text": [
            "TRAIN: [ 75  76  77  78  79  80  81  82  83  84  85  86  87  88  89  90  91  92\n",
            "  93  94  95  96  97  98  99 100 101 102 103 104 105 106 107 108 109 110\n",
            " 111 112 113 114 115 116 117 118 119 120 121 122 123 124 125 126 127 128\n",
            " 129 130 131 132 133 134 135 136 137 138 139 140 141 142 143 144 145 146\n",
            " 147 148 149] TEST: [ 0  1  2  3  4  5  6  7  8  9 10 11 12 13 14 15 16 17 18 19 20 21 22 23\n",
            " 24 25 26 27 28 29 30 31 32 33 34 35 36 37 38 39 40 41 42 43 44 45 46 47\n",
            " 48 49 50 51 52 53 54 55 56 57 58 59 60 61 62 63 64 65 66 67 68 69 70 71\n",
            " 72 73 74]\n",
            "TRAIN: [ 0  1  2  3  4  5  6  7  8  9 10 11 12 13 14 15 16 17 18 19 20 21 22 23\n",
            " 24 25 26 27 28 29 30 31 32 33 34 35 36 37 38 39 40 41 42 43 44 45 46 47\n",
            " 48 49 50 51 52 53 54 55 56 57 58 59 60 61 62 63 64 65 66 67 68 69 70 71\n",
            " 72 73 74] TEST: [ 75  76  77  78  79  80  81  82  83  84  85  86  87  88  89  90  91  92\n",
            "  93  94  95  96  97  98  99 100 101 102 103 104 105 106 107 108 109 110\n",
            " 111 112 113 114 115 116 117 118 119 120 121 122 123 124 125 126 127 128\n",
            " 129 130 131 132 133 134 135 136 137 138 139 140 141 142 143 144 145 146\n",
            " 147 148 149]\n"
          ],
          "name": "stdout"
        }
      ]
    },
    {
      "cell_type": "code",
      "metadata": {
        "id": "DBdFn96ETFFH",
        "outputId": "5595033b-21a0-4d99-ad51-48ecbb390723"
      },
      "source": [
        "kf1 = KFold(n_splits=5)\n",
        "cross_val_score(model, X, y, cv=kf1,scoring='accuracy')"
      ],
      "execution_count": null,
      "outputs": [
        {
          "output_type": "execute_result",
          "data": {
            "text/plain": [
              "array([1.   , 1.   , 0.867, 0.933, 0.833])"
            ]
          },
          "metadata": {
            "tags": []
          },
          "execution_count": 118
        }
      ]
    },
    {
      "cell_type": "markdown",
      "metadata": {
        "id": "sm-rd8eOTFFI"
      },
      "source": [
        "Custom performance metrics"
      ]
    },
    {
      "cell_type": "code",
      "metadata": {
        "id": "IL6wALxlTFFI"
      },
      "source": [
        "from sklearn.model_selection import cross_val_score\n",
        "from sklearn.metrics import confusion_matrix\n",
        "from sklearn.metrics import make_scorer\n",
        "def tn(y, y_pred): return confusion_matrix(y, y_pred)[0, 0]\n",
        "def fp(y, y_pred): return confusion_matrix(y, y_pred)[0, 1]\n",
        "def fn(y, y_pred): return confusion_matrix(y, y_pred)[1, 0]\n",
        "def tp(y, y_pred): return confusion_matrix(y, y_pred)[1, 1]\n",
        "tn_score = make_scorer(tn)\n",
        "fp_score = make_scorer(fp)\n",
        "fn_score = make_scorer(fn)\n",
        "tp_score = make_scorer(tp)"
      ],
      "execution_count": null,
      "outputs": []
    },
    {
      "cell_type": "code",
      "metadata": {
        "id": "wiK_pEpsTFFI",
        "outputId": "76c1f7b2-90eb-4636-cf00-ec5aef4d6339"
      },
      "source": [
        "[tn(ytest,ytest_pred)\n",
        ",fp(ytest,ytest_pred)\n",
        ",fn(ytest,ytest_pred)\n",
        ",tp(ytest,ytest_pred)]"
      ],
      "execution_count": null,
      "outputs": [
        {
          "output_type": "execute_result",
          "data": {
            "text/plain": [
              "[21, 0, 0, 28]"
            ]
          },
          "metadata": {
            "tags": []
          },
          "execution_count": 120
        }
      ]
    },
    {
      "cell_type": "code",
      "metadata": {
        "id": "3jop8BOkTFFI",
        "outputId": "9eee1dc4-3238-4721-bb8e-dca97d47570a"
      },
      "source": [
        "tp_score(model,X,y)"
      ],
      "execution_count": null,
      "outputs": [
        {
          "output_type": "execute_result",
          "data": {
            "text/plain": [
              "48"
            ]
          },
          "metadata": {
            "tags": []
          },
          "execution_count": 121
        }
      ]
    },
    {
      "cell_type": "markdown",
      "metadata": {
        "id": "4V8LGFtrTFFI"
      },
      "source": [
        "Multiple performance measures"
      ]
    },
    {
      "cell_type": "code",
      "metadata": {
        "id": "AxR6qd5OTFFI",
        "outputId": "886e91ee-f020-424e-d74e-02e8b6d8bbab"
      },
      "source": [
        "from sklearn.model_selection import cross_validate\n",
        "custom_scores = {'tp': tp_score, 'tn': tn_score,'fp': fp_score, 'fn': fn_score}\n",
        "cv_results = cross_validate(model,X,y,cv=10,scoring=custom_scores,return_train_score=True)\n",
        "\n",
        "cv_results"
      ],
      "execution_count": null,
      "outputs": [
        {
          "output_type": "execute_result",
          "data": {
            "text/plain": [
              "{'fit_time': array([0.001, 0.   , 0.001, 0.001, 0.001, 0.   , 0.   , 0.   , 0.   ,\n",
              "        0.   ]),\n",
              " 'score_time': array([0.01 , 0.006, 0.006, 0.007, 0.011, 0.008, 0.007, 0.006, 0.006,\n",
              "        0.006]),\n",
              " 'test_tp': array([5, 5, 5, 5, 3, 5, 4, 5, 5, 5]),\n",
              " 'train_tp': array([45, 45, 45, 45, 45, 45, 45, 45, 45, 45]),\n",
              " 'test_tn': array([5, 5, 5, 5, 5, 5, 5, 5, 5, 5]),\n",
              " 'train_tn': array([45, 45, 45, 45, 45, 45, 45, 45, 45, 45]),\n",
              " 'test_fp': array([0, 0, 0, 0, 0, 0, 0, 0, 0, 0]),\n",
              " 'train_fp': array([0, 0, 0, 0, 0, 0, 0, 0, 0, 0]),\n",
              " 'test_fn': array([0, 0, 0, 0, 0, 0, 0, 0, 0, 0]),\n",
              " 'train_fn': array([0, 0, 0, 0, 0, 0, 0, 0, 0, 0])}"
            ]
          },
          "metadata": {
            "tags": []
          },
          "execution_count": 122
        }
      ]
    },
    {
      "cell_type": "markdown",
      "metadata": {
        "id": "hjMLklXBTFFJ"
      },
      "source": [
        "**Exercise: Understanding different performance measures:**\n",
        "\n",
        "Take a look to the following article discussing how different performance measures capture different \n",
        "\n",
        "types of errors in classification problems: \n",
        "\n",
        "https://medium.com/datadriveninvestor/accuracy-trap-pay-attention-to-recall-precision-f-score-auc-d02f28d3299c\n",
        "\n",
        "Use the data in the example in order to create a MATLAB/Python code that computes the confusion matrix and the Reciever-Operating-Characteristic curve (ROC). Upload the codes so that we can share them with your class mates. \n",
        "\n",
        "The main objective of this activity is that you get a critical understanding of the different measures and how do they actually capture the relevant errors in your specific problem.\n",
        "\n"
      ]
    },
    {
      "cell_type": "code",
      "metadata": {
        "id": "NMpEEzZLTFFJ",
        "outputId": "c8d8b67d-3ef6-4a44-bfec-285b5281b591"
      },
      "source": [
        "import numpy as np\n",
        "import matplotlib.pyplot as plt\n",
        "import matplotlib\n",
        "import math\n",
        "import pandas as pd\n",
        "import seaborn as sns\n",
        "import sklearn as skl\n",
        "from sklearn.decomposition import PCA\n",
        "\n",
        "# Data vector\n",
        "# Read .txt document (file has to be in the same folder as this program)\n",
        "data = pd.read_csv('Data_article.txt', sep=\",\", header = None)\n",
        "position = data[:][0]\n",
        "actualclass = data[:][1]\n",
        "score = data[:][2]\n",
        "\n",
        "# Set a threshold to obtain the confusion matrix\n",
        "# The same results can be obtained using \"sklearn\" library\n",
        "string = input(\"Set your threshold: \")\n",
        "thresh = float(string)\n",
        "TP = 0\n",
        "FP = 0\n",
        "FN = 0\n",
        "TN = 0\n",
        "for i in range(0, np.size(position)):\n",
        "    # Actual class: POSITIVE\n",
        "    # Supposed class: POSITIVE\n",
        "    if ( (score[i] >= thresh) & (actualclass[i] == 1) ):\n",
        "        confvect = 'TP'\n",
        "        TP = TP + 1\n",
        "    # Actual class: NEGATIVE\n",
        "    # Supposed class: POSITIVE\n",
        "    elif ( (score[i] >= thresh) & (actualclass[i] == 0) ):\n",
        "        confvect = 'FP'\n",
        "        FP = FP + 1\n",
        "    # Actual class: POSITIVE\n",
        "    # Supposed class: NEGATIVE\n",
        "    elif ( (score[i] < thresh) & (actualclass[i] == 1) ):\n",
        "        confvect = 'FN'\n",
        "        FN = FN + 1\n",
        "    # Actual class: NEGATIVE\n",
        "    # Supposed class: NEGATIVE\n",
        "    elif ( (score[i] < thresh) & (actualclass[i] == 0) ):\n",
        "        confvect = 'TN'\n",
        "        TN = TN + 1\n",
        "\n",
        "# Model evaluation indicators\n",
        "Accuracy = (TP+TN)/(TP+TN+FP+FN)\n",
        "Recall = TP/(TP+FN)\n",
        "Precision = TP/(TP+FP)\n",
        "Fscore = (2*Recall*Precision)/(Recall+Precision)\n",
        "print([Accuracy, Recall, Precision, Fscore])"
      ],
      "execution_count": null,
      "outputs": [
        {
          "output_type": "stream",
          "text": [
            "Set your threshold: 0.1\n",
            "[0.15, 1.0, 0.15, 0.2608695652173913]\n"
          ],
          "name": "stdout"
        }
      ]
    }
  ]
}